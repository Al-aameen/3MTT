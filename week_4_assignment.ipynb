{
 "cells": [
  {
   "cell_type": "code",
   "execution_count": 6,
   "id": "ae72f3b8-4b52-443b-93f6-22c7046d1a09",
   "metadata": {},
   "outputs": [
    {
     "name": "stdin",
     "output_type": "stream",
     "text": [
      "Enter the 1st number:  896\n",
      "Enter the 2nd number:  45\n",
      "Enter the 3rd number:  455\n"
     ]
    },
    {
     "name": "stdout",
     "output_type": "stream",
     "text": [
      "The Sum of the numbers 896, 45 and 455 is 1396\n"
     ]
    }
   ],
   "source": [
    "def sum(a, b, c):\n",
    "    return (a + b + c)\n",
    "\n",
    "a = int(input(\"Enter the 1st number: \"))\n",
    "b = int(input(\"Enter the 2nd number: \"))\n",
    "c = int(input(\"Enter the 3rd number: \"))\n",
    "\n",
    "print(f'The Sum of the numbers {a}, {b} and {c} is {sum(a, b, c)}')"
   ]
  },
  {
   "cell_type": "code",
   "execution_count": null,
   "id": "ea2450ba-9a29-45bb-ad78-8d3b27d30497",
   "metadata": {},
   "outputs": [],
   "source": []
  }
 ],
 "metadata": {
  "kernelspec": {
   "display_name": "Python 3 (ipykernel)",
   "language": "python",
   "name": "python3"
  },
  "language_info": {
   "codemirror_mode": {
    "name": "ipython",
    "version": 3
   },
   "file_extension": ".py",
   "mimetype": "text/x-python",
   "name": "python",
   "nbconvert_exporter": "python",
   "pygments_lexer": "ipython3",
   "version": "3.9.19"
  }
 },
 "nbformat": 4,
 "nbformat_minor": 5
}
